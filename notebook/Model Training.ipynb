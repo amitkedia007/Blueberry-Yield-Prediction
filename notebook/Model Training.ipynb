{
 "cells": [
  {
   "cell_type": "code",
   "execution_count": 21,
   "id": "72e1193a",
   "metadata": {},
   "outputs": [
    {
     "name": "stdout",
     "output_type": "stream",
     "text": [
      "Requirement already satisfied: catboost in d:\\end-to-end ml projects\\mlproject\\venv\\lib\\site-packages (1.2)\n",
      "Requirement already satisfied: graphviz in d:\\end-to-end ml projects\\mlproject\\venv\\lib\\site-packages (from catboost) (0.20.1)\n",
      "Requirement already satisfied: six in d:\\end-to-end ml projects\\mlproject\\venv\\lib\\site-packages (from catboost) (1.16.0)\n",
      "Requirement already satisfied: matplotlib in d:\\end-to-end ml projects\\mlproject\\venv\\lib\\site-packages (from catboost) (3.7.1)\n",
      "Requirement already satisfied: numpy>=1.16.0 in d:\\end-to-end ml projects\\mlproject\\venv\\lib\\site-packages (from catboost) (1.24.3)\n",
      "Requirement already satisfied: pandas>=0.24 in d:\\end-to-end ml projects\\mlproject\\venv\\lib\\site-packages (from catboost) (2.0.1)\n",
      "Requirement already satisfied: scipy in d:\\end-to-end ml projects\\mlproject\\venv\\lib\\site-packages (from catboost) (1.10.1)\n",
      "Requirement already satisfied: plotly in d:\\end-to-end ml projects\\mlproject\\venv\\lib\\site-packages (from catboost) (5.14.1)\n",
      "Requirement already satisfied: tzdata>=2022.1 in d:\\end-to-end ml projects\\mlproject\\venv\\lib\\site-packages (from pandas>=0.24->catboost) (2023.3)\n",
      "Requirement already satisfied: pytz>=2020.1 in d:\\end-to-end ml projects\\mlproject\\venv\\lib\\site-packages (from pandas>=0.24->catboost) (2023.3)\n",
      "Requirement already satisfied: python-dateutil>=2.8.2 in d:\\end-to-end ml projects\\mlproject\\venv\\lib\\site-packages (from pandas>=0.24->catboost) (2.8.2)\n",
      "Requirement already satisfied: pillow>=6.2.0 in d:\\end-to-end ml projects\\mlproject\\venv\\lib\\site-packages (from matplotlib->catboost) (9.5.0)\n",
      "Requirement already satisfied: fonttools>=4.22.0 in d:\\end-to-end ml projects\\mlproject\\venv\\lib\\site-packages (from matplotlib->catboost) (4.39.3)\n",
      "Requirement already satisfied: importlib-resources>=3.2.0 in d:\\end-to-end ml projects\\mlproject\\venv\\lib\\site-packages (from matplotlib->catboost) (5.12.0)\n",
      "Requirement already satisfied: cycler>=0.10 in d:\\end-to-end ml projects\\mlproject\\venv\\lib\\site-packages (from matplotlib->catboost) (0.11.0)\n",
      "Requirement already satisfied: packaging>=20.0 in d:\\end-to-end ml projects\\mlproject\\venv\\lib\\site-packages (from matplotlib->catboost) (23.1)\n",
      "Requirement already satisfied: contourpy>=1.0.1 in d:\\end-to-end ml projects\\mlproject\\venv\\lib\\site-packages (from matplotlib->catboost) (1.0.7)\n",
      "Requirement already satisfied: pyparsing>=2.3.1 in d:\\end-to-end ml projects\\mlproject\\venv\\lib\\site-packages (from matplotlib->catboost) (3.0.9)\n",
      "Requirement already satisfied: kiwisolver>=1.0.1 in d:\\end-to-end ml projects\\mlproject\\venv\\lib\\site-packages (from matplotlib->catboost) (1.4.4)\n",
      "Requirement already satisfied: tenacity>=6.2.0 in d:\\end-to-end ml projects\\mlproject\\venv\\lib\\site-packages (from plotly->catboost) (8.2.2)\n",
      "Requirement already satisfied: zipp>=3.1.0 in d:\\end-to-end ml projects\\mlproject\\venv\\lib\\site-packages (from importlib-resources>=3.2.0->matplotlib->catboost) (3.15.0)\n"
     ]
    }
   ],
   "source": [
    "! pip install catboost"
   ]
  },
  {
   "cell_type": "code",
   "execution_count": 22,
   "id": "5ee26b00",
   "metadata": {},
   "outputs": [
    {
     "name": "stdout",
     "output_type": "stream",
     "text": [
      "Requirement already satisfied: xgboost in d:\\end-to-end ml projects\\mlproject\\venv\\lib\\site-packages (1.7.5)\n",
      "Requirement already satisfied: numpy in d:\\end-to-end ml projects\\mlproject\\venv\\lib\\site-packages (from xgboost) (1.24.3)\n",
      "Requirement already satisfied: scipy in d:\\end-to-end ml projects\\mlproject\\venv\\lib\\site-packages (from xgboost) (1.10.1)\n"
     ]
    }
   ],
   "source": [
    "! pip install xgboost"
   ]
  },
  {
   "cell_type": "code",
   "execution_count": 7,
   "id": "cb2f01a9",
   "metadata": {},
   "outputs": [],
   "source": [
    "# Basic Import\n",
    "import numpy as np\n",
    "import pandas as pd\n",
    "import matplotlib.pyplot as plt \n",
    "import seaborn as sns\n",
    "# Modelling\n",
    "from sklearn.metrics import mean_squared_error, r2_score\n",
    "from sklearn.neighbors import KNeighborsRegressor\n",
    "from sklearn.tree import DecisionTreeRegressor\n",
    "from sklearn.ensemble import RandomForestRegressor,AdaBoostRegressor\n",
    "from sklearn.svm import SVR\n",
    "from sklearn.linear_model import LinearRegression, Ridge,Lasso\n",
    "from sklearn.metrics import r2_score, mean_absolute_error, mean_squared_error\n",
    "from sklearn.model_selection import RandomizedSearchCV\n",
    "from catboost import CatBoostRegressor\n",
    "from xgboost import XGBRegressor\n",
    "import warnings"
   ]
  },
  {
   "cell_type": "code",
   "execution_count": 8,
   "id": "a15f4a56",
   "metadata": {},
   "outputs": [],
   "source": [
    "# Importing the train and test data\n",
    "\n",
    "train_set = pd.read_csv(\"D:\\\\End-to-End ML Projects\\\\MLProject\\\\artifacts\\\\final_train_set.csv\")\n",
    "test_set = pd.read_csv(\"D:\\\\End-to-End ML Projects\\\\MLProject\\\\artifacts\\\\final_test_set.csv\")"
   ]
  },
  {
   "cell_type": "code",
   "execution_count": 9,
   "id": "0691e580",
   "metadata": {},
   "outputs": [
    {
     "data": {
      "text/html": [
       "<div>\n",
       "<style scoped>\n",
       "    .dataframe tbody tr th:only-of-type {\n",
       "        vertical-align: middle;\n",
       "    }\n",
       "\n",
       "    .dataframe tbody tr th {\n",
       "        vertical-align: top;\n",
       "    }\n",
       "\n",
       "    .dataframe thead th {\n",
       "        text-align: right;\n",
       "    }\n",
       "</style>\n",
       "<table border=\"1\" class=\"dataframe\">\n",
       "  <thead>\n",
       "    <tr style=\"text-align: right;\">\n",
       "      <th></th>\n",
       "      <th>Unnamed: 0</th>\n",
       "      <th>id</th>\n",
       "      <th>clonesize</th>\n",
       "      <th>honeybee</th>\n",
       "      <th>bumbles</th>\n",
       "      <th>andrena</th>\n",
       "      <th>osmia</th>\n",
       "      <th>MaxOfUpperTRange</th>\n",
       "      <th>RainingDays</th>\n",
       "      <th>fruitset</th>\n",
       "      <th>yield</th>\n",
       "    </tr>\n",
       "  </thead>\n",
       "  <tbody>\n",
       "    <tr>\n",
       "      <th>0</th>\n",
       "      <td>0</td>\n",
       "      <td>0</td>\n",
       "      <td>25.0</td>\n",
       "      <td>0.50</td>\n",
       "      <td>0.25</td>\n",
       "      <td>0.75</td>\n",
       "      <td>0.50</td>\n",
       "      <td>69.7</td>\n",
       "      <td>24.0</td>\n",
       "      <td>0.425011</td>\n",
       "      <td>4476.81146</td>\n",
       "    </tr>\n",
       "    <tr>\n",
       "      <th>1</th>\n",
       "      <td>1</td>\n",
       "      <td>1</td>\n",
       "      <td>25.0</td>\n",
       "      <td>0.50</td>\n",
       "      <td>0.25</td>\n",
       "      <td>0.50</td>\n",
       "      <td>0.50</td>\n",
       "      <td>69.7</td>\n",
       "      <td>24.0</td>\n",
       "      <td>0.444908</td>\n",
       "      <td>5548.12201</td>\n",
       "    </tr>\n",
       "    <tr>\n",
       "      <th>2</th>\n",
       "      <td>2</td>\n",
       "      <td>2</td>\n",
       "      <td>12.5</td>\n",
       "      <td>0.25</td>\n",
       "      <td>0.25</td>\n",
       "      <td>0.63</td>\n",
       "      <td>0.63</td>\n",
       "      <td>86.0</td>\n",
       "      <td>24.0</td>\n",
       "      <td>0.552927</td>\n",
       "      <td>6869.77760</td>\n",
       "    </tr>\n",
       "    <tr>\n",
       "      <th>3</th>\n",
       "      <td>3</td>\n",
       "      <td>3</td>\n",
       "      <td>12.5</td>\n",
       "      <td>0.25</td>\n",
       "      <td>0.25</td>\n",
       "      <td>0.63</td>\n",
       "      <td>0.50</td>\n",
       "      <td>77.4</td>\n",
       "      <td>24.0</td>\n",
       "      <td>0.565976</td>\n",
       "      <td>6880.77590</td>\n",
       "    </tr>\n",
       "    <tr>\n",
       "      <th>4</th>\n",
       "      <td>4</td>\n",
       "      <td>4</td>\n",
       "      <td>25.0</td>\n",
       "      <td>0.50</td>\n",
       "      <td>0.25</td>\n",
       "      <td>0.63</td>\n",
       "      <td>0.63</td>\n",
       "      <td>77.4</td>\n",
       "      <td>24.0</td>\n",
       "      <td>0.579677</td>\n",
       "      <td>7479.93417</td>\n",
       "    </tr>\n",
       "  </tbody>\n",
       "</table>\n",
       "</div>"
      ],
      "text/plain": [
       "   Unnamed: 0  id  clonesize  honeybee  bumbles  andrena  osmia   \n",
       "0           0   0       25.0      0.50     0.25     0.75   0.50  \\\n",
       "1           1   1       25.0      0.50     0.25     0.50   0.50   \n",
       "2           2   2       12.5      0.25     0.25     0.63   0.63   \n",
       "3           3   3       12.5      0.25     0.25     0.63   0.50   \n",
       "4           4   4       25.0      0.50     0.25     0.63   0.63   \n",
       "\n",
       "   MaxOfUpperTRange  RainingDays  fruitset       yield  \n",
       "0              69.7         24.0  0.425011  4476.81146  \n",
       "1              69.7         24.0  0.444908  5548.12201  \n",
       "2              86.0         24.0  0.552927  6869.77760  \n",
       "3              77.4         24.0  0.565976  6880.77590  \n",
       "4              77.4         24.0  0.579677  7479.93417  "
      ]
     },
     "execution_count": 9,
     "metadata": {},
     "output_type": "execute_result"
    }
   ],
   "source": [
    "train_set.head()"
   ]
  },
  {
   "cell_type": "code",
   "execution_count": 10,
   "id": "66467b1c",
   "metadata": {},
   "outputs": [
    {
     "data": {
      "text/html": [
       "<div>\n",
       "<style scoped>\n",
       "    .dataframe tbody tr th:only-of-type {\n",
       "        vertical-align: middle;\n",
       "    }\n",
       "\n",
       "    .dataframe tbody tr th {\n",
       "        vertical-align: top;\n",
       "    }\n",
       "\n",
       "    .dataframe thead th {\n",
       "        text-align: right;\n",
       "    }\n",
       "</style>\n",
       "<table border=\"1\" class=\"dataframe\">\n",
       "  <thead>\n",
       "    <tr style=\"text-align: right;\">\n",
       "      <th></th>\n",
       "      <th>Unnamed: 0</th>\n",
       "      <th>id</th>\n",
       "      <th>clonesize</th>\n",
       "      <th>honeybee</th>\n",
       "      <th>bumbles</th>\n",
       "      <th>andrena</th>\n",
       "      <th>osmia</th>\n",
       "      <th>MaxOfUpperTRange</th>\n",
       "      <th>RainingDays</th>\n",
       "      <th>fruitset</th>\n",
       "    </tr>\n",
       "  </thead>\n",
       "  <tbody>\n",
       "    <tr>\n",
       "      <th>0</th>\n",
       "      <td>0</td>\n",
       "      <td>15289</td>\n",
       "      <td>25.0</td>\n",
       "      <td>0.25</td>\n",
       "      <td>0.25</td>\n",
       "      <td>0.25</td>\n",
       "      <td>0.25</td>\n",
       "      <td>86.0</td>\n",
       "      <td>24.0</td>\n",
       "      <td>0.399367</td>\n",
       "    </tr>\n",
       "    <tr>\n",
       "      <th>1</th>\n",
       "      <td>1</td>\n",
       "      <td>15290</td>\n",
       "      <td>12.5</td>\n",
       "      <td>0.25</td>\n",
       "      <td>0.25</td>\n",
       "      <td>0.75</td>\n",
       "      <td>0.63</td>\n",
       "      <td>94.6</td>\n",
       "      <td>1.0</td>\n",
       "      <td>0.488048</td>\n",
       "    </tr>\n",
       "    <tr>\n",
       "      <th>2</th>\n",
       "      <td>2</td>\n",
       "      <td>15291</td>\n",
       "      <td>12.5</td>\n",
       "      <td>0.25</td>\n",
       "      <td>0.25</td>\n",
       "      <td>0.63</td>\n",
       "      <td>0.63</td>\n",
       "      <td>86.0</td>\n",
       "      <td>16.0</td>\n",
       "      <td>0.583379</td>\n",
       "    </tr>\n",
       "    <tr>\n",
       "      <th>3</th>\n",
       "      <td>3</td>\n",
       "      <td>15292</td>\n",
       "      <td>25.0</td>\n",
       "      <td>0.50</td>\n",
       "      <td>0.38</td>\n",
       "      <td>0.38</td>\n",
       "      <td>0.63</td>\n",
       "      <td>86.0</td>\n",
       "      <td>16.0</td>\n",
       "      <td>0.433014</td>\n",
       "    </tr>\n",
       "    <tr>\n",
       "      <th>4</th>\n",
       "      <td>4</td>\n",
       "      <td>15293</td>\n",
       "      <td>37.5</td>\n",
       "      <td>0.75</td>\n",
       "      <td>0.25</td>\n",
       "      <td>0.25</td>\n",
       "      <td>0.25</td>\n",
       "      <td>94.6</td>\n",
       "      <td>24.0</td>\n",
       "      <td>0.360996</td>\n",
       "    </tr>\n",
       "  </tbody>\n",
       "</table>\n",
       "</div>"
      ],
      "text/plain": [
       "   Unnamed: 0     id  clonesize  honeybee  bumbles  andrena  osmia   \n",
       "0           0  15289       25.0      0.25     0.25     0.25   0.25  \\\n",
       "1           1  15290       12.5      0.25     0.25     0.75   0.63   \n",
       "2           2  15291       12.5      0.25     0.25     0.63   0.63   \n",
       "3           3  15292       25.0      0.50     0.38     0.38   0.63   \n",
       "4           4  15293       37.5      0.75     0.25     0.25   0.25   \n",
       "\n",
       "   MaxOfUpperTRange  RainingDays  fruitset  \n",
       "0              86.0         24.0  0.399367  \n",
       "1              94.6          1.0  0.488048  \n",
       "2              86.0         16.0  0.583379  \n",
       "3              86.0         16.0  0.433014  \n",
       "4              94.6         24.0  0.360996  "
      ]
     },
     "execution_count": 10,
     "metadata": {},
     "output_type": "execute_result"
    }
   ],
   "source": [
    "test_set.head()"
   ]
  },
  {
   "attachments": {},
   "cell_type": "markdown",
   "id": "12384c1e",
   "metadata": {},
   "source": [
    "As we don't have target variable in the test data, we will not able to evaluate the performance of the model. So the strategy to make the model more robust, I will divide split the train data and then will evalute on that whichever model is performing best and have less chances of overfitting then will select that model for prediction  "
   ]
  },
  {
   "cell_type": "code",
   "execution_count": 11,
   "id": "4fee902f",
   "metadata": {},
   "outputs": [],
   "source": [
    "X = train_set.drop(columns = ['yield'])\n",
    "y = train_set['yield']"
   ]
  },
  {
   "cell_type": "code",
   "execution_count": 12,
   "id": "ea36ff20",
   "metadata": {},
   "outputs": [
    {
     "data": {
      "text/plain": [
       "((12231, 10), (3058, 10))"
      ]
     },
     "execution_count": 12,
     "metadata": {},
     "output_type": "execute_result"
    }
   ],
   "source": [
    "# separate dataset into train and test\n",
    "from sklearn.model_selection import train_test_split\n",
    "X_train, X_test, y_train, y_test = train_test_split(X,y,test_size=0.2,random_state=42)\n",
    "X_train.shape, X_test.shape"
   ]
  },
  {
   "cell_type": "code",
   "execution_count": 13,
   "id": "f843c887",
   "metadata": {},
   "outputs": [],
   "source": [
    "def evaluate_model(true, predicted):\n",
    "    mae = mean_absolute_error(true, predicted)\n",
    "    mse = mean_squared_error(true, predicted)\n",
    "    rmse = np.sqrt(mean_squared_error(true, predicted))\n",
    "    r2_square = r2_score(true, predicted)\n",
    "    return mae, rmse, r2_square"
   ]
  },
  {
   "cell_type": "code",
   "execution_count": 14,
   "id": "d527074c",
   "metadata": {},
   "outputs": [
    {
     "name": "stdout",
     "output_type": "stream",
     "text": [
      "Linear Regression\n",
      "Model performance for Training set\n",
      "- Root Mean Squared Error: 611.2656\n",
      "- Mean Absolute Error: 392.1098\n",
      "- R2 Score: 0.7918\n",
      "----------------------------------\n",
      "Model performance for Test set\n",
      "- Root Mean Squared Error: 601.1202\n",
      "- Mean Absolute Error: 391.2677\n",
      "- R2 Score: 0.7944\n",
      "===================================\n",
      "\n",
      "\n",
      "Lasso\n",
      "Model performance for Training set\n",
      "- Root Mean Squared Error: 611.6983\n",
      "- Mean Absolute Error: 394.6576\n",
      "- R2 Score: 0.7915\n",
      "----------------------------------\n",
      "Model performance for Test set\n",
      "- Root Mean Squared Error: 602.2784\n",
      "- Mean Absolute Error: 394.4317\n",
      "- R2 Score: 0.7937\n",
      "===================================\n",
      "\n",
      "\n",
      "Ridge\n",
      "Model performance for Training set\n",
      "- Root Mean Squared Error: 611.6013\n",
      "- Mean Absolute Error: 395.5191\n",
      "- R2 Score: 0.7916\n",
      "----------------------------------\n",
      "Model performance for Test set\n",
      "- Root Mean Squared Error: 601.7702\n",
      "- Mean Absolute Error: 394.8362\n",
      "- R2 Score: 0.7940\n",
      "===================================\n",
      "\n",
      "\n",
      "K-Neighbors Regressor\n",
      "Model performance for Training set\n",
      "- Root Mean Squared Error: 1016.0581\n",
      "- Mean Absolute Error: 804.2299\n",
      "- R2 Score: 0.4248\n",
      "----------------------------------\n",
      "Model performance for Test set\n",
      "- Root Mean Squared Error: 1257.0091\n",
      "- Mean Absolute Error: 993.2058\n",
      "- R2 Score: 0.1012\n",
      "===================================\n",
      "\n",
      "\n",
      "Decision Tree\n",
      "Model performance for Training set\n",
      "- Root Mean Squared Error: 0.0000\n",
      "- Mean Absolute Error: 0.0000\n",
      "- R2 Score: 1.0000\n",
      "----------------------------------\n",
      "Model performance for Test set\n",
      "- Root Mean Squared Error: 889.1160\n",
      "- Mean Absolute Error: 595.2645\n",
      "- R2 Score: 0.5503\n",
      "===================================\n",
      "\n",
      "\n",
      "Random Forest Regressor\n",
      "Model performance for Training set\n",
      "- Root Mean Squared Error: 235.8354\n",
      "- Mean Absolute Error: 152.7226\n",
      "- R2 Score: 0.9690\n",
      "----------------------------------\n",
      "Model performance for Test set\n",
      "- Root Mean Squared Error: 613.0267\n",
      "- Mean Absolute Error: 405.9791\n",
      "- R2 Score: 0.7862\n",
      "===================================\n",
      "\n",
      "\n",
      "XGBRegressor\n",
      "Model performance for Training set\n",
      "- Root Mean Squared Error: 442.0603\n",
      "- Mean Absolute Error: 293.4166\n",
      "- R2 Score: 0.8911\n",
      "----------------------------------\n",
      "Model performance for Test set\n",
      "- Root Mean Squared Error: 600.9835\n",
      "- Mean Absolute Error: 393.8609\n",
      "- R2 Score: 0.7945\n",
      "===================================\n",
      "\n",
      "\n",
      "CatBoosting Regressor\n",
      "Model performance for Training set\n",
      "- Root Mean Squared Error: 515.7121\n",
      "- Mean Absolute Error: 338.2900\n",
      "- R2 Score: 0.8518\n",
      "----------------------------------\n",
      "Model performance for Test set\n",
      "- Root Mean Squared Error: 590.1864\n",
      "- Mean Absolute Error: 384.7818\n",
      "- R2 Score: 0.8019\n",
      "===================================\n",
      "\n",
      "\n",
      "AdaBoost Regressor\n",
      "Model performance for Training set\n",
      "- Root Mean Squared Error: 717.1359\n",
      "- Mean Absolute Error: 512.8611\n",
      "- R2 Score: 0.7135\n",
      "----------------------------------\n",
      "Model performance for Test set\n",
      "- Root Mean Squared Error: 720.8942\n",
      "- Mean Absolute Error: 518.1311\n",
      "- R2 Score: 0.7044\n",
      "===================================\n",
      "\n",
      "\n"
     ]
    }
   ],
   "source": [
    "models = {\n",
    "    \"Linear Regression\": LinearRegression(),\n",
    "    \"Lasso\": Lasso(),\n",
    "    \"Ridge\": Ridge(),\n",
    "    \"K-Neighbors Regressor\": KNeighborsRegressor(),\n",
    "    \"Decision Tree\": DecisionTreeRegressor(),\n",
    "    \"Random Forest Regressor\": RandomForestRegressor(),\n",
    "    \"XGBRegressor\": XGBRegressor(), \n",
    "    \"CatBoosting Regressor\": CatBoostRegressor(verbose=False),\n",
    "    \"AdaBoost Regressor\": AdaBoostRegressor()\n",
    "}\n",
    "model_list = []\n",
    "r2_list =[]\n",
    "\n",
    "for i in range(len(list(models))):\n",
    "    model = list(models.values())[i]\n",
    "    model.fit(X_train, y_train) # Train model\n",
    "\n",
    "    # Make predictions\n",
    "    y_train_pred = model.predict(X_train)\n",
    "    y_test_pred = model.predict(X_test)\n",
    "    \n",
    "    # Evaluate Train and Test dataset\n",
    "    model_train_mae , model_train_rmse, model_train_r2 = evaluate_model(y_train, y_train_pred)\n",
    "\n",
    "    model_test_mae , model_test_rmse, model_test_r2 = evaluate_model(y_test, y_test_pred)\n",
    "\n",
    "    \n",
    "    print(list(models.keys())[i])\n",
    "    model_list.append(list(models.keys())[i])\n",
    "    \n",
    "    print('Model performance for Training set')\n",
    "    print(\"- Root Mean Squared Error: {:.4f}\".format(model_train_rmse))\n",
    "    print(\"- Mean Absolute Error: {:.4f}\".format(model_train_mae))\n",
    "    print(\"- R2 Score: {:.4f}\".format(model_train_r2))\n",
    "\n",
    "    print('----------------------------------')\n",
    "    \n",
    "    print('Model performance for Test set')\n",
    "    print(\"- Root Mean Squared Error: {:.4f}\".format(model_test_rmse))\n",
    "    print(\"- Mean Absolute Error: {:.4f}\".format(model_test_mae))\n",
    "    print(\"- R2 Score: {:.4f}\".format(model_test_r2))\n",
    "    r2_list.append(model_test_r2)\n",
    "    \n",
    "    print('='*35)\n",
    "    print('\\n')\n"
   ]
  },
  {
   "cell_type": "code",
   "execution_count": 15,
   "id": "f531b1d7",
   "metadata": {},
   "outputs": [
    {
     "data": {
      "text/html": [
       "<div>\n",
       "<style scoped>\n",
       "    .dataframe tbody tr th:only-of-type {\n",
       "        vertical-align: middle;\n",
       "    }\n",
       "\n",
       "    .dataframe tbody tr th {\n",
       "        vertical-align: top;\n",
       "    }\n",
       "\n",
       "    .dataframe thead th {\n",
       "        text-align: right;\n",
       "    }\n",
       "</style>\n",
       "<table border=\"1\" class=\"dataframe\">\n",
       "  <thead>\n",
       "    <tr style=\"text-align: right;\">\n",
       "      <th></th>\n",
       "      <th>Model Name</th>\n",
       "      <th>R2_Score</th>\n",
       "    </tr>\n",
       "  </thead>\n",
       "  <tbody>\n",
       "    <tr>\n",
       "      <th>7</th>\n",
       "      <td>CatBoosting Regressor</td>\n",
       "      <td>0.801858</td>\n",
       "    </tr>\n",
       "    <tr>\n",
       "      <th>6</th>\n",
       "      <td>XGBRegressor</td>\n",
       "      <td>0.794542</td>\n",
       "    </tr>\n",
       "    <tr>\n",
       "      <th>0</th>\n",
       "      <td>Linear Regression</td>\n",
       "      <td>0.794449</td>\n",
       "    </tr>\n",
       "    <tr>\n",
       "      <th>2</th>\n",
       "      <td>Ridge</td>\n",
       "      <td>0.794004</td>\n",
       "    </tr>\n",
       "    <tr>\n",
       "      <th>1</th>\n",
       "      <td>Lasso</td>\n",
       "      <td>0.793656</td>\n",
       "    </tr>\n",
       "    <tr>\n",
       "      <th>5</th>\n",
       "      <td>Random Forest Regressor</td>\n",
       "      <td>0.786226</td>\n",
       "    </tr>\n",
       "    <tr>\n",
       "      <th>8</th>\n",
       "      <td>AdaBoost Regressor</td>\n",
       "      <td>0.704376</td>\n",
       "    </tr>\n",
       "    <tr>\n",
       "      <th>4</th>\n",
       "      <td>Decision Tree</td>\n",
       "      <td>0.550309</td>\n",
       "    </tr>\n",
       "    <tr>\n",
       "      <th>3</th>\n",
       "      <td>K-Neighbors Regressor</td>\n",
       "      <td>0.101178</td>\n",
       "    </tr>\n",
       "  </tbody>\n",
       "</table>\n",
       "</div>"
      ],
      "text/plain": [
       "                Model Name  R2_Score\n",
       "7    CatBoosting Regressor  0.801858\n",
       "6             XGBRegressor  0.794542\n",
       "0        Linear Regression  0.794449\n",
       "2                    Ridge  0.794004\n",
       "1                    Lasso  0.793656\n",
       "5  Random Forest Regressor  0.786226\n",
       "8       AdaBoost Regressor  0.704376\n",
       "4            Decision Tree  0.550309\n",
       "3    K-Neighbors Regressor  0.101178"
      ]
     },
     "execution_count": 15,
     "metadata": {},
     "output_type": "execute_result"
    }
   ],
   "source": [
    "pd.DataFrame(list(zip(model_list, r2_list)), columns=['Model Name', 'R2_Score']).sort_values(by=[\"R2_Score\"],ascending=False)\n"
   ]
  },
  {
   "attachments": {},
   "cell_type": "markdown",
   "id": "78a6d31f",
   "metadata": {},
   "source": [
    "After applying all the regressor models, the best model we got is CatBoosting Regressor. Therefore, we will have the final prediction on test_set by the Catboosting model. "
   ]
  },
  {
   "cell_type": "code",
   "execution_count": 16,
   "id": "663babde",
   "metadata": {},
   "outputs": [],
   "source": [
    "# Create and train the CatBoostRegressor model\n",
    "model = CatBoostRegressor(verbose=False)\n",
    "model.fit(X_train, y_train)\n",
    "\n",
    "# Make predictions\n",
    "y_train_pred = model.predict(X_train)\n",
    "y_test_pred = model.predict(X_test)"
   ]
  },
  {
   "cell_type": "code",
   "execution_count": 17,
   "id": "3ec93004",
   "metadata": {},
   "outputs": [
    {
     "data": {
      "image/png": "[encoded data removed]",
      "text/plain": [
       "<Figure size 640x480 with 1 Axes>"
      ]
     },
     "metadata": {},
     "output_type": "display_data"
    }
   ],
   "source": [
    "plt.scatter(y_test,y_test_pred);\n",
    "plt.xlabel('Actual');\n",
    "plt.ylabel('Predicted');\n"
   ]
  },
  {
   "cell_type": "code",
   "execution_count": 18,
   "id": "3b434787",
   "metadata": {},
   "outputs": [
    {
     "data": {
      "image/png": "[encoded data removed]",
      "text/plain": [
       "<Figure size 640x480 with 1 Axes>"
      ]
     },
     "metadata": {},
     "output_type": "display_data"
    }
   ],
   "source": [
    "sns.regplot(x=y_test,y=y_test_pred,ci=None,color ='red');\n"
   ]
  },
  {
   "cell_type": "code",
   "execution_count": 19,
   "id": "853715f4",
   "metadata": {},
   "outputs": [],
   "source": [
    "test_set_predict = model.predict(test_set)"
   ]
  },
  {
   "cell_type": "code",
   "execution_count": 20,
   "id": "87458a5f",
   "metadata": {},
   "outputs": [
    {
     "data": {
      "text/plain": [
       "array([3850.25199171, 6134.60049533, 7245.523566  , ..., 6733.3201403 ,\n",
       "       4176.63248014, 7099.8535387 ])"
      ]
     },
     "execution_count": 20,
     "metadata": {},
     "output_type": "execute_result"
    }
   ],
   "source": [
    "test_set_predict"
   ]
  },
  {
   "attachments": {},
   "cell_type": "markdown",
   "id": "e7b9f978",
   "metadata": {},
   "source": [
    "So the above array we got is the final prediction of the test dataset "
   ]
  }
 ],
 "metadata": {
  "kernelspec": {
   "display_name": "Python 3 (ipykernel)",
   "language": "python",
   "name": "python3"
  },
  "language_info": {
   "codemirror_mode": {
    "name": "ipython",
    "version": 3
   },
   "file_extension": ".py",
   "mimetype": "text/x-python",
   "name": "python",
   "nbconvert_exporter": "python",
   "pygments_lexer": "ipython3",
   "version": "3.8.0"
  }
 },
 "nbformat": 4,
 "nbformat_minor": 5
}
